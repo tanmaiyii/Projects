{
 "cells": [
  {
   "cell_type": "code",
   "execution_count": 1,
   "metadata": {},
   "outputs": [
    {
     "name": "stdout",
     "output_type": "stream",
     "text": [
      "[nltk_data] Downloading package treebank to\n",
      "[nltk_data]     /Users/tanmaiyiirao/nltk_data...\n",
      "[nltk_data]   Package treebank is already up-to-date!\n"
     ]
    }
   ],
   "source": [
    "import nltk\n",
    "nltk.download('treebank')\n",
    "from nltk.corpus import treebank"
   ]
  },
  {
   "cell_type": "code",
   "execution_count": 2,
   "metadata": {},
   "outputs": [],
   "source": [
    "# here we load in the sentences\n",
    "sentence22 = treebank.parsed_sents('wsj_0003.mrg')[21]\n",
    "sentence7 = treebank.parsed_sents('wsj_0003.mrg')[6]\n",
    "sentence13 = treebank.parsed_sents('wsj_0004.mrg')[12]"
   ]
  },
  {
   "cell_type": "code",
   "execution_count": 3,
   "metadata": {},
   "outputs": [
    {
     "name": "stdout",
     "output_type": "stream",
     "text": [
      "(S\n",
      "  (PP-TMP (IN In) (NP (NNP July)))\n",
      "  (, ,)\n",
      "  (NP-SBJ (DT the) (NNP Environmental) (NNP Protection) (NNP Agency))\n",
      "  (VP\n",
      "    (VBD imposed)\n",
      "    (NP (DT a) (JJ gradual) (NN ban))\n",
      "    (PP-CLR\n",
      "      (IN on)\n",
      "      (NP\n",
      "        (NP (ADJP (RB virtually) (DT all)) (NNS uses))\n",
      "        (PP (IN of) (NP (NN asbestos))))))\n",
      "  (. .))\n"
     ]
    }
   ],
   "source": [
    "print (sentence22)"
   ]
  },
  {
   "cell_type": "code",
   "execution_count": 4,
   "metadata": {},
   "outputs": [
    {
     "data": {
      "text/plain": [
       "[S -> PP-TMP , NP-SBJ VP .,\n",
       " PP-TMP -> IN NP,\n",
       " IN -> 'In',\n",
       " NP -> NNP,\n",
       " NNP -> 'July',\n",
       " , -> ',',\n",
       " NP-SBJ -> DT NNP NNP NNP,\n",
       " DT -> 'the',\n",
       " NNP -> 'Environmental',\n",
       " NNP -> 'Protection',\n",
       " NNP -> 'Agency',\n",
       " VP -> VBD NP PP-CLR,\n",
       " VBD -> 'imposed',\n",
       " NP -> DT JJ NN,\n",
       " DT -> 'a',\n",
       " JJ -> 'gradual',\n",
       " NN -> 'ban',\n",
       " PP-CLR -> IN NP,\n",
       " IN -> 'on',\n",
       " NP -> NP PP,\n",
       " NP -> ADJP NNS,\n",
       " ADJP -> RB DT,\n",
       " RB -> 'virtually',\n",
       " DT -> 'all',\n",
       " NNS -> 'uses',\n",
       " PP -> IN NP,\n",
       " IN -> 'of',\n",
       " NP -> NN,\n",
       " NN -> 'asbestos',\n",
       " . -> '.']"
      ]
     },
     "execution_count": 4,
     "metadata": {},
     "output_type": "execute_result"
    }
   ],
   "source": [
    "#  Q3 - sentence 22 tree and rules\n",
    "sentence22.draw()\n",
    "sentence22.productions()"
   ]
  },
  {
   "cell_type": "code",
   "execution_count": 5,
   "metadata": {},
   "outputs": [
    {
     "name": "stdout",
     "output_type": "stream",
     "text": [
      "(S\n",
      "  (NP-SBJ (EX There))\n",
      "  (VP\n",
      "    (VBZ is)\n",
      "    (NP-PRD (DT no) (NN asbestos))\n",
      "    (PP-LOC (IN in) (NP (PRP$ our) (NNS products)))\n",
      "    (ADVP-TMP (RB now)))\n",
      "  (. .)\n",
      "  ('' ''))\n"
     ]
    }
   ],
   "source": [
    "#question 3 #  Q3 - sentence 7 tree and rules\n",
    "print (sentence7)"
   ]
  },
  {
   "cell_type": "code",
   "execution_count": 6,
   "metadata": {},
   "outputs": [
    {
     "data": {
      "text/plain": [
       "[S -> NP-SBJ VP . '',\n",
       " NP-SBJ -> EX,\n",
       " EX -> 'There',\n",
       " VP -> VBZ NP-PRD PP-LOC ADVP-TMP,\n",
       " VBZ -> 'is',\n",
       " NP-PRD -> DT NN,\n",
       " DT -> 'no',\n",
       " NN -> 'asbestos',\n",
       " PP-LOC -> IN NP,\n",
       " IN -> 'in',\n",
       " NP -> PRP$ NNS,\n",
       " PRP$ -> 'our',\n",
       " NNS -> 'products',\n",
       " ADVP-TMP -> RB,\n",
       " RB -> 'now',\n",
       " . -> '.',\n",
       " '' -> \"''\"]"
      ]
     },
     "execution_count": 6,
     "metadata": {},
     "output_type": "execute_result"
    }
   ],
   "source": [
    "sentence7.draw()\n",
    "sentence7.productions()"
   ]
  },
  {
   "cell_type": "code",
   "execution_count": null,
   "metadata": {},
   "outputs": [],
   "source": []
  },
  {
   "cell_type": "code",
   "execution_count": 7,
   "metadata": {},
   "outputs": [
    {
     "name": "stdout",
     "output_type": "stream",
     "text": [
      "(S\n",
      "  (NP-SBJ (DT The) (JJ top) (NN money) (NNS funds))\n",
      "  (VP\n",
      "    (VBP are)\n",
      "    (ADVP-TMP (RB currently))\n",
      "    (VP (VBG yielding) (NP (QP (RB well) (IN over) (CD 9)) (NN %))))\n",
      "  (. .))\n"
     ]
    }
   ],
   "source": [
    "#  Q3 - sentence 13 tree and rules\n",
    "print (sentence13)"
   ]
  },
  {
   "cell_type": "code",
   "execution_count": 8,
   "metadata": {},
   "outputs": [
    {
     "data": {
      "text/plain": [
       "[S -> NP-SBJ VP .,\n",
       " NP-SBJ -> DT JJ NN NNS,\n",
       " DT -> 'The',\n",
       " JJ -> 'top',\n",
       " NN -> 'money',\n",
       " NNS -> 'funds',\n",
       " VP -> VBP ADVP-TMP VP,\n",
       " VBP -> 'are',\n",
       " ADVP-TMP -> RB,\n",
       " RB -> 'currently',\n",
       " VP -> VBG NP,\n",
       " VBG -> 'yielding',\n",
       " NP -> QP NN,\n",
       " QP -> RB IN CD,\n",
       " RB -> 'well',\n",
       " IN -> 'over',\n",
       " CD -> '9',\n",
       " NN -> '%',\n",
       " . -> '.']"
      ]
     },
     "execution_count": 8,
     "metadata": {},
     "output_type": "execute_result"
    }
   ],
   "source": [
    "sentence13.draw()\n",
    "sentence13.productions()"
   ]
  },
  {
   "cell_type": "code",
   "execution_count": 33,
   "metadata": {},
   "outputs": [],
   "source": [
    "# here we define a grammar\n",
    "grammar = nltk.CFG.fromstring(\"\"\"\n",
    "S -> NP VP\n",
    "NP -> Det N | 'NLP' | 'I'\n",
    "VP -> V NP\n",
    "Det -> 'the'\n",
    "N -> 'students' | 'subject'\n",
    "V -> 'like' | 'love'\n",
    "\"\"\")"
   ]
  },
  {
   "cell_type": "code",
   "execution_count": 4,
   "metadata": {},
   "outputs": [],
   "source": [
    "#4b\n",
    "grammar = nltk.CFG.fromstring(\"\"\"\n",
    "S -> NP VP\n",
    "S -> Aux NP VP\n",
    "S -> VP\n",
    "S -> IVP\n",
    "NP -> Pronoun\n",
    "NP -> Proper-Noun\n",
    "NP -> Det Nominal\n",
    "Nominal -> N\n",
    "Nominal -> Nominal N\n",
    "Nominal -> Nominal PP\n",
    "VP -> V\n",
    "VP -> V NP\n",
    "VP -> V NP PP\n",
    "VP -> V PP\n",
    "VP -> VP PP\n",
    "PP -> Preposition NP\n",
    "IVP -> IVerb NP NP\n",
    "IVP -> IVerb NP NP PP\n",
    "IVerb -> 'list'\n",
    "Det -> 'the'\n",
    "N -> 'seats'|'flight'| 'list'\n",
    "V -> 'list'\n",
    "Pronoun -> 'me'\n",
    "Proper-Noun -> 'Denver'\n",
    "Aux -> 'does'\n",
    "Preposition -> 'on' | 'to'\n",
    "\"\"\")"
   ]
  },
  {
   "cell_type": "code",
   "execution_count": 2,
   "metadata": {},
   "outputs": [],
   "source": [
    "#4c\n",
    "grammar = nltk.CFG.fromstring(\"\"\"\n",
    "S -> NP VP\n",
    "S -> Aux NP VP\n",
    "S -> VP\n",
    "S -> IVP\n",
    "NP -> Pronoun\n",
    "NP -> Proper-Noun\n",
    "NP -> Det Nominal\n",
    "Nominal -> N\n",
    "Nominal -> Nominal N\n",
    "Nominal -> Nominal PP\n",
    "VP -> V\n",
    "VP -> V NP\n",
    "VP -> V NP PP\n",
    "VP -> V PP\n",
    "VP -> VP PP\n",
    "PP -> Preposition NP\n",
    "IVP -> IVerb NP NP\n",
    "IVP -> IVerb NP NP PP\n",
    "IVerb -> 'list'\n",
    "Det -> 'the'\n",
    "N -> 'seats'|'flight'| 'list'\n",
    "V -> 'list'\n",
    "Pronoun -> 'me'\n",
    "Proper-Noun -> 'Denver'\n",
    "Aux -> 'does'\n",
    "Preposition -> 'on' | 'to'\n",
    "NP -> NP PP\n",
    "\"\"\")"
   ]
  },
  {
   "cell_type": "code",
   "execution_count": 3,
   "metadata": {},
   "outputs": [],
   "source": [
    "# here we let nltk construct a chart parser from our grammar\n",
    "parser = nltk.ChartParser(grammar)"
   ]
  },
  {
   "cell_type": "code",
   "execution_count": 4,
   "metadata": {},
   "outputs": [],
   "source": [
    "# input: a list of words\n",
    "# returns all the parses of a sentence\n",
    "def allParses(sentenceList):\n",
    "    return parser.parse(sentenceList)"
   ]
  },
  {
   "cell_type": "code",
   "execution_count": 5,
   "metadata": {},
   "outputs": [],
   "source": [
    "# input: a list of parse trees\n",
    "# prints all the parse trees\n",
    "def printParses(parses):\n",
    "    for tree in parses:\n",
    "        print(tree)\n",
    "        tree.draw()"
   ]
  },
  {
   "cell_type": "code",
   "execution_count": 6,
   "metadata": {},
   "outputs": [],
   "source": [
    "# input: a sentence as a string or as a list of words\n",
    "# prints a sentence, then parses it and prints all the parse trees\n",
    "def processSentence(sentence):\n",
    "    sentenceList = sentence\n",
    "    if isinstance(sentence,str):\n",
    "        sentenceList = sentence.split(' ')\n",
    "    print ('Original sentence: ' + ' '.join(sentenceList))\n",
    "    printParses(allParses(sentenceList))"
   ]
  },
  {
   "cell_type": "code",
   "execution_count": 13,
   "metadata": {},
   "outputs": [],
   "source": [
    "def mainScript():\n",
    "    processSentence('I like NLP')\n",
    "    processSentence('the students love the subject')\n",
    "    processSentence('list me the seats on the flight to Denver') # question 4 "
   ]
  },
  {
   "cell_type": "code",
   "execution_count": 29,
   "metadata": {},
   "outputs": [
    {
     "name": "stdout",
     "output_type": "stream",
     "text": [
      "Original sentence: I like NLP\n",
      "(S (NP I) (VP (V like) (NP NLP)))\n"
     ]
    }
   ],
   "source": [
    "processSentence('I like NLP')"
   ]
  },
  {
   "cell_type": "code",
   "execution_count": 30,
   "metadata": {},
   "outputs": [
    {
     "name": "stdout",
     "output_type": "stream",
     "text": [
      "Original sentence: the students love the subject\n",
      "(S\n",
      "  (NP (Det the) (N students))\n",
      "  (VP (V love) (NP (Det the) (N subject))))\n"
     ]
    }
   ],
   "source": [
    " processSentence('the students love the subject')"
   ]
  },
  {
   "cell_type": "code",
   "execution_count": 7,
   "metadata": {
    "scrolled": true
   },
   "outputs": [
    {
     "name": "stdout",
     "output_type": "stream",
     "text": [
      "Original sentence: list me the seats on the flight to Denver\n",
      "(S\n",
      "  (IVP\n",
      "    (IVerb list)\n",
      "    (NP (Pronoun me))\n",
      "    (NP\n",
      "      (Det the)\n",
      "      (Nominal\n",
      "        (Nominal\n",
      "          (Nominal (N seats))\n",
      "          (PP (Preposition on) (NP (Det the) (Nominal (N flight)))))\n",
      "        (PP (Preposition to) (NP (Proper-Noun Denver)))))))\n",
      "(S\n",
      "  (IVP\n",
      "    (IVerb list)\n",
      "    (NP (Pronoun me))\n",
      "    (NP\n",
      "      (Det the)\n",
      "      (Nominal\n",
      "        (Nominal (N seats))\n",
      "        (PP\n",
      "          (Preposition on)\n",
      "          (NP\n",
      "            (NP (Det the) (Nominal (N flight)))\n",
      "            (PP (Preposition to) (NP (Proper-Noun Denver)))))))))\n",
      "(S\n",
      "  (IVP\n",
      "    (IVerb list)\n",
      "    (NP (Pronoun me))\n",
      "    (NP\n",
      "      (Det the)\n",
      "      (Nominal\n",
      "        (Nominal (N seats))\n",
      "        (PP\n",
      "          (Preposition on)\n",
      "          (NP\n",
      "            (Det the)\n",
      "            (Nominal\n",
      "              (Nominal (N flight))\n",
      "              (PP (Preposition to) (NP (Proper-Noun Denver))))))))))\n",
      "(S\n",
      "  (IVP\n",
      "    (IVerb list)\n",
      "    (NP (Pronoun me))\n",
      "    (NP\n",
      "      (NP\n",
      "        (NP (Det the) (Nominal (N seats)))\n",
      "        (PP (Preposition on) (NP (Det the) (Nominal (N flight)))))\n",
      "      (PP (Preposition to) (NP (Proper-Noun Denver))))))\n",
      "(S\n",
      "  (IVP\n",
      "    (IVerb list)\n",
      "    (NP (Pronoun me))\n",
      "    (NP\n",
      "      (NP\n",
      "        (Det the)\n",
      "        (Nominal\n",
      "          (Nominal (N seats))\n",
      "          (PP (Preposition on) (NP (Det the) (Nominal (N flight))))))\n",
      "      (PP (Preposition to) (NP (Proper-Noun Denver))))))\n",
      "(S\n",
      "  (IVP\n",
      "    (IVerb list)\n",
      "    (NP (Pronoun me))\n",
      "    (NP\n",
      "      (NP (Det the) (Nominal (N seats)))\n",
      "      (PP\n",
      "        (Preposition on)\n",
      "        (NP\n",
      "          (NP (Det the) (Nominal (N flight)))\n",
      "          (PP (Preposition to) (NP (Proper-Noun Denver))))))))\n",
      "(S\n",
      "  (IVP\n",
      "    (IVerb list)\n",
      "    (NP (Pronoun me))\n",
      "    (NP\n",
      "      (NP (Det the) (Nominal (N seats)))\n",
      "      (PP\n",
      "        (Preposition on)\n",
      "        (NP\n",
      "          (Det the)\n",
      "          (Nominal\n",
      "            (Nominal (N flight))\n",
      "            (PP (Preposition to) (NP (Proper-Noun Denver)))))))))\n",
      "(S\n",
      "  (IVP\n",
      "    (IVerb list)\n",
      "    (NP (Pronoun me))\n",
      "    (NP\n",
      "      (NP (Det the) (Nominal (N seats)))\n",
      "      (PP (Preposition on) (NP (Det the) (Nominal (N flight)))))\n",
      "    (PP (Preposition to) (NP (Proper-Noun Denver)))))\n",
      "(S\n",
      "  (IVP\n",
      "    (IVerb list)\n",
      "    (NP (Pronoun me))\n",
      "    (NP\n",
      "      (Det the)\n",
      "      (Nominal\n",
      "        (Nominal (N seats))\n",
      "        (PP (Preposition on) (NP (Det the) (Nominal (N flight))))))\n",
      "    (PP (Preposition to) (NP (Proper-Noun Denver)))))\n",
      "(S\n",
      "  (IVP\n",
      "    (IVerb list)\n",
      "    (NP (Pronoun me))\n",
      "    (NP (Det the) (Nominal (N seats)))\n",
      "    (PP\n",
      "      (Preposition on)\n",
      "      (NP\n",
      "        (NP (Det the) (Nominal (N flight)))\n",
      "        (PP (Preposition to) (NP (Proper-Noun Denver)))))))\n",
      "(S\n",
      "  (IVP\n",
      "    (IVerb list)\n",
      "    (NP (Pronoun me))\n",
      "    (NP (Det the) (Nominal (N seats)))\n",
      "    (PP\n",
      "      (Preposition on)\n",
      "      (NP\n",
      "        (Det the)\n",
      "        (Nominal\n",
      "          (Nominal (N flight))\n",
      "          (PP (Preposition to) (NP (Proper-Noun Denver))))))))\n"
     ]
    }
   ],
   "source": [
    "processSentence('list me the seats on the flight to Denver') "
   ]
  },
  {
   "cell_type": "code",
   "execution_count": null,
   "metadata": {},
   "outputs": [],
   "source": []
  },
  {
   "cell_type": "code",
   "execution_count": null,
   "metadata": {},
   "outputs": [],
   "source": []
  }
 ],
 "metadata": {
  "kernelspec": {
   "display_name": "Python 3",
   "language": "python",
   "name": "python3"
  },
  "language_info": {
   "codemirror_mode": {
    "name": "ipython",
    "version": 3
   },
   "file_extension": ".py",
   "mimetype": "text/x-python",
   "name": "python",
   "nbconvert_exporter": "python",
   "pygments_lexer": "ipython3",
   "version": "3.6.4"
  }
 },
 "nbformat": 4,
 "nbformat_minor": 2
}
