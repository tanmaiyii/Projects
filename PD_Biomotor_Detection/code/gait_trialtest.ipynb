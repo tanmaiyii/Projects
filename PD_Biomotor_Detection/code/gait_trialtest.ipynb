{
 "cells": [
  {
   "cell_type": "code",
   "execution_count": 7,
   "metadata": {},
   "outputs": [],
   "source": [
    "# importing the necessary packages\n",
    "#sources\n",
    "#http://www.numpy.org/\n",
    "#https://pandas.pydata.org/\n",
    "#https://stackoverflow.com/\n",
    "#http://scikit-learn.org/stable/\n",
    "import os, json, glob\n",
    "import os.path as os\n",
    "import pandas as pd\n",
    "import numpy as np\n",
    "import matplotlib.pyplot as plt\n",
    "from pprint import pprint\n",
    "import json_lines\n",
    "import scipy.spatial\n",
    "from sklearn.metrics.pairwise import euclidean_distances\n",
    "import seaborn as sns\n",
    "from pandas.tools.plotting import autocorrelation_plot\n",
    "from statsmodels.tsa.stattools import acf\n",
    "from statsmodels.graphics.tsaplots import plot_acf"
   ]
  },
  {
   "cell_type": "code",
   "execution_count": null,
   "metadata": {},
   "outputs": [],
   "source": []
  },
  {
   "cell_type": "code",
   "execution_count": 8,
   "metadata": {},
   "outputs": [],
   "source": [
    "frames = pd.read_json('walking.jsonl', lines=True)"
   ]
  },
  {
   "cell_type": "code",
   "execution_count": 9,
   "metadata": {},
   "outputs": [
    {
     "name": "stdout",
     "output_type": "stream",
     "text": [
      "                                              people  version\n",
      "0  [{'pose_keypoints_2d': [590.099, 342.58, 0.913...      1.2\n",
      "519\n"
     ]
    }
   ],
   "source": [
    "print(frames.head(1))\n",
    "print(len(frames))"
   ]
  },
  {
   "cell_type": "code",
   "execution_count": 10,
   "metadata": {},
   "outputs": [],
   "source": [
    "people_f = frames['people']"
   ]
  },
  {
   "cell_type": "code",
   "execution_count": 11,
   "metadata": {},
   "outputs": [
    {
     "name": "stdout",
     "output_type": "stream",
     "text": [
      "519\n"
     ]
    }
   ],
   "source": [
    "print(len(people_f))"
   ]
  },
  {
   "cell_type": "code",
   "execution_count": 12,
   "metadata": {},
   "outputs": [
    {
     "name": "stdout",
     "output_type": "stream",
     "text": [
      "54\n"
     ]
    }
   ],
   "source": [
    "kp = frames.iloc[:,0]\n",
    "print(len(kp[0][0]['pose_keypoints_2d']))"
   ]
  },
  {
   "cell_type": "code",
   "execution_count": 13,
   "metadata": {},
   "outputs": [],
   "source": [
    "def get_pose_kp(data):\n",
    "    x_points = []\n",
    "    y_points = []\n",
    "    c_points = []\n",
    "    for i in range(len(data)):\n",
    "        res1 = data[i]\n",
    "        if len(res1) > 0:\n",
    "            res2 = data[i][0]['pose_keypoints_2d']\n",
    "            x = x_points.append([res2[k] for k in range(0,54,3)])\n",
    "            y = y_points.append([res2[k] for k in range(1,54,3)])\n",
    "            c = c_points.append([res2[k] for k in range(2,54,3)])\n",
    "            \n",
    "    hip_right_x = [x[8] for x in x_points]\n",
    "    knee_right_x = [x[9] for x in x_points]\n",
    "    foot_right_x = [x[10] for x in x_points]\n",
    "    \n",
    "    hip_right_y = [y[8] for y in y_points]\n",
    "    knee_right_y = [y[9] for y in y_points]\n",
    "    foot_right_y = [y[10] for y in y_points]\n",
    "    \n",
    "    hip_right_c = [c[8] for c in c_points]\n",
    "    knee_right_c = [c[9] for c in c_points]\n",
    "    foot_right_c = [c[10] for c in c_points]\n",
    "    \n",
    "    hip_left_x = [x[11] for x in x_points]\n",
    "    knee_left_x = [x[12] for x in x_points]\n",
    "    foot_left_x = [x[13] for x in x_points]\n",
    "    \n",
    "    hip_left_y = [y[11] for y in y_points]\n",
    "    knee_left_y = [y[12] for y in y_points]\n",
    "    foot_left_y = [y[13] for y in y_points]\n",
    "    \n",
    "    hip_left_c = [c[11] for c in c_points]\n",
    "    knee_left_c = [c[12] for c in c_points]\n",
    "    foot_left_c = [c[13] for c in c_points]\n",
    "    \n",
    "    centre_x = [x[1] for x in x_points]\n",
    "    centre_y = [y[1] for y in y_points]\n",
    "    centre_c = [c[1] for c in c_points]\n",
    "    \n",
    "    centre = list(zip(centre_x, centre_y, centre_c))\n",
    "    \n",
    "    hip_right = list(zip(hip_right_x, hip_right_y, hip_right_c))\n",
    "    knee_right = list(zip(knee_right_x,knee_right_y,knee_right_c))\n",
    "    foot_right = list(zip(foot_right_x, foot_right_y, foot_right_c))\n",
    "    \n",
    "    hip_left = list(zip(hip_left_x, hip_left_y, hip_left_c))\n",
    "    knee_left = list(zip(knee_left_x,knee_left_y,knee_left_c))\n",
    "    foot_left = list(zip(foot_left_x, foot_left_y, foot_left_c))\n",
    "    \n",
    "    right_hip = pd.DataFrame(hip_right, columns=['x', 'y', 'c'])\n",
    "    print(right_hip.head())\n",
    "    right_knee = pd.DataFrame(knee_right, columns=['x', 'y', 'c'])\n",
    "    right_foot = pd.DataFrame(foot_right, columns=['x', 'y', 'c'])\n",
    "    left_hip = pd.DataFrame(hip_left, columns=['x', 'y', 'c'])\n",
    "    left_knee = pd.DataFrame(knee_left, columns=['x', 'y', 'c'])\n",
    "    left_foot = pd.DataFrame(foot_left, columns=['x', 'y', 'c'])\n",
    "    centre = pd.DataFrame(centre, columns =['x', 'y', 'c'])\n",
    "    print(centre.head(5))\n",
    "\n",
    "    right_norm = np.linalg.norm(centre.iloc[:,:2] - right_hip.iloc[:,:2], axis = 1).reshape((519, 1))\n",
    "    print(right_norm[:5])\n",
    "\n",
    "    \n",
    "    left_norm = np.linalg.norm(centre.iloc[:,:2] - left_hip.iloc[:,:2], axis = 1).reshape((519, 1))\n",
    "    print(left_norm[:5])\n",
    "    #norm = pd.concat([right_norm,left_norm])\n",
    "    norm = np.stack((right_norm, left_norm), axis = 1).reshape((519,2))\n",
    "    #print(norm.shape)\n",
    "    mean_norm = np.mean(norm, axis = 1).reshape((519,1))\n",
    "    print(mean_norm[:5])\n",
    "    #by_row_index1 = norm.groupby(norm.index)\n",
    "    #mean_norm = by_row_index1.mean()\n",
    "    #mean_norm = pd.DataFrame(mean_norm)\n",
    "\n",
    "    #right_foot_norm = np.divide(right_foot, mean_norm)\n",
    "    right_foot_norm = abs((right_foot - right_foot.mean(axis = 0 ))/right_foot.std(axis = 0))\n",
    "    right_foot_norm = pd.DataFrame(right_foot_norm)\n",
    "    print(right_foot_norm.head())\n",
    "    \n",
    "    #left foot norm\n",
    "    left_foot_norm = abs((left_foot - left_foot.mean(axis = 0 ))/left_foot.std(axis = 0))\n",
    "    left_foot_norm = pd.DataFrame(left_foot_norm)\n",
    "    print(left_foot_norm.head())\n",
    "    \n",
    "    diff_left = np.sqrt(np.power(left_foot_norm['x'].shift()-left_foot_norm['x'],2)+np.power(left_foot_norm['y'].shift()-left_foot_norm['y'],2))\n",
    "    left_diff = pd.DataFrame(diff_left)\n",
    "    left_diff = left_diff.fillna(0)\n",
    "    print(left_diff.head())\n",
    "\n",
    "    diff_right = np.sqrt(np.power(right_foot_norm['x'].shift()-right_foot_norm['x'],2)+np.power(right_foot_norm['y'].shift()-right_foot_norm['y'],2))\n",
    "    right_diff = pd.DataFrame(diff_right)\n",
    "    right_diff = right_diff.fillna(0)\n",
    "    right_diff = right_diff[right_diff[0]<2]\n",
    "    print(right_diff.head())\n",
    "    print(len(right_diff))\n",
    "\n",
    "    #plt.plot(right_diff.index, right_diff, linewidth = 0.5)\n",
    "    #plt.savefig('right_gait_velocity')\n",
    "    #right_ts = plt.plot(right_diff, linewidth = 0.5)\n",
    "    autocorrelation_plot(right_diff)\n",
    "    right_acf = acf(right_diff, unbiased=False, nlags=517, qstat=False, fft=False, alpha=None, missing='None')\n",
    "    print(len(right_acf))\n",
    "    #plot_acf(right_diff, ax=None, lags=516, alpha=None, use_vlines=True, unbiased=False, fft=False, \n",
    "             #title='Autocorrelation', zero=True, vlines_kwargs= marker)\n",
    "    #plt.show()\n",
    "    #plt.savefig('right_gait_acf')\n",
    "\n",
    "    \n",
    "    #ary = scipy.spatial.distance.euclidean(right_hip.iloc[:,:1], right_foot.iloc[:,:1])\n",
    "    dist_right =  np.linalg.norm(right_hip.iloc[:,:2] - right_foot.iloc[:,:2], axis = 1).reshape((519, 1))\n",
    "    #dist_right = np.sqrt(np.power(right_hip['x']-right_foot['x'],2)+np.power(right_hip['y']-right_foot['y'],2)).reshape((519,1))\n",
    "    print(dist_right.shape)\n",
    "    right_leg_length = np.divide(dist_right, mean_norm) * 100\n",
    "    #right_leg_length = dist_right.divide(mean_norm) * 100\n",
    "    right_leg_length = pd.DataFrame(right_leg_length)\n",
    "    right_leg_length.index += 1\n",
    "    right_leg_length.index.name = 'timeFrame'\n",
    "    right_leg_length.columns = ['distance']\n",
    "    print(right_leg_length.head())\n",
    "    \n",
    "    \n",
    "    dist_left =  np.linalg.norm(left_hip.iloc[:,:2] - left_foot.iloc[:,:2], axis = 1).reshape((519, 1))\n",
    "    #dist_left = np.sqrt(np.power(left_hip['x']-left_foot['x'],2)+np.power(left_hip['y']-left_foot['y'],2))\n",
    "    \n",
    "    #diff = np.sqrt(np.power(df1['x'].shift()-df1['x'],2)+np.power(df1['y'].shift()-df1['y'],2))\n",
    "\n",
    "    print(dist_left.shape)\n",
    "    left_leg_length = np.divide(dist_left, mean_norm) * 100\n",
    "    #left_leg_length = dist_left.divide(mean_norm) * 100                  \n",
    "    left_leg_length = pd.DataFrame(left_leg_length)\n",
    "    left_leg_length.index += 1\n",
    "    left_leg_length.index.name = 'timeFrame'\n",
    "    left_leg_length.columns = ['distance']\n",
    "    #print(left_leg_length.head())\n",
    "    \n",
    "    right_leg_length.to_csv('right_leg.csv')\n",
    "    #left_leg_length.to_csv('left_leg.csv')\n",
    "    \n",
    "    return len(right_leg_length), len(left_leg_length)"
   ]
  },
  {
   "cell_type": "code",
   "execution_count": 21,
   "metadata": {},
   "outputs": [
    {
     "name": "stdout",
     "output_type": "stream",
     "text": [
      "         x        y         c\n",
      "0  569.509  460.312  0.894316\n",
      "1  572.326  460.326  0.900217\n",
      "2  572.350  460.447  0.894632\n",
      "3  572.320  460.470  0.883616\n",
      "4  572.369  460.530  0.880636\n",
      "         x        y         c\n",
      "0  590.091  383.734  0.847172\n",
      "1  590.135  383.773  0.845190\n",
      "2  592.991  386.557  0.859476\n",
      "3  590.113  386.651  0.872686\n",
      "4  592.989  386.704  0.877572\n",
      "[[79.29570485]\n",
      " [78.59721554]\n",
      " [76.71885675]\n",
      " [75.93309957]\n",
      " [76.65156669]]\n",
      "[[78.45586015]\n",
      " [79.43040522]\n",
      " [78.46489203]\n",
      " [79.39132258]\n",
      " [78.37671502]]\n",
      "[[78.8757825 ]\n",
      " [79.01381038]\n",
      " [77.59187439]\n",
      " [77.66221107]\n",
      " [77.51414085]]\n",
      "          x         y         c\n",
      "0  0.009810  0.256556  0.695370\n",
      "1  0.009852  0.244348  0.632780\n",
      "2  0.009615  0.256299  0.670271\n",
      "3  0.009751  0.244261  0.654603\n",
      "4  0.009668  0.244104  0.639492\n",
      "          x         y         c\n",
      "0  0.261490  0.391668  0.508555\n",
      "1  0.261204  0.391723  0.494271\n",
      "2  0.241310  0.391668  0.514292\n",
      "3  0.261253  0.379046  0.500573\n",
      "4  0.261657  0.378758  0.496516\n",
      "          0\n",
      "0  0.000000\n",
      "1  0.000291\n",
      "2  0.019894\n",
      "3  0.023602\n",
      "4  0.000496\n",
      "          0\n",
      "0  0.000000\n",
      "1  0.012208\n",
      "2  0.011953\n",
      "3  0.012039\n",
      "4  0.000178\n",
      "517\n",
      "517\n",
      "(519, 1)\n",
      "             distance\n",
      "timeFrame            \n",
      "1          150.154728\n",
      "2          153.186508\n",
      "3          152.313574\n",
      "4          155.694513\n",
      "5          155.958747\n",
      "(519, 1)\n"
     ]
    },
    {
     "name": "stderr",
     "output_type": "stream",
     "text": [
      "/Users/tanmaiyiirao/anaconda3/lib/python3.6/site-packages/ipykernel_launcher.py:101: FutureWarning: 'pandas.tools.plotting.autocorrelation_plot' is deprecated, import 'pandas.plotting.autocorrelation_plot' instead.\n"
     ]
    },
    {
     "data": {
      "text/plain": [
       "(519, 519)"
      ]
     },
     "execution_count": 21,
     "metadata": {},
     "output_type": "execute_result"
    },
    {
     "data": {
      "image/png": "[encoded data removed]",
      "text/plain": [
       "<Figure size 432x288 with 1 Axes>"
      ]
     },
     "metadata": {},
     "output_type": "display_data"
    }
   ],
   "source": [
    "get_pose_kp(kp)"
   ]
  },
  {
   "cell_type": "code",
   "execution_count": null,
   "metadata": {},
   "outputs": [],
   "source": [
    "def get_normalised_vector():\n",
    "    \n",
    "    "
   ]
  },
  {
   "cell_type": "code",
   "execution_count": 18,
   "metadata": {},
   "outputs": [],
   "source": [
    "hip = np.array([569.509000, 460.312000])\n",
    "foot = np.array([578.367000,578.416000])\n",
    "\n",
    "dist = np.linalg.norm(hip - foot)\n",
    "dist2 = np.sqrt(np.sum((hip-foot)**2))\n"
   ]
  },
  {
   "cell_type": "code",
   "execution_count": 19,
   "metadata": {},
   "outputs": [
    {
     "name": "stdout",
     "output_type": "stream",
     "text": [
      "118.43571665675861 118.43571665675861\n"
     ]
    }
   ],
   "source": [
    "print(dist, dist2)"
   ]
  },
  {
   "cell_type": "code",
   "execution_count": null,
   "metadata": {},
   "outputs": [],
   "source": []
  }
 ],
 "metadata": {
  "kernelspec": {
   "display_name": "Python 3",
   "language": "python",
   "name": "python3"
  },
  "language_info": {
   "codemirror_mode": {
    "name": "ipython",
    "version": 3
   },
   "file_extension": ".py",
   "mimetype": "text/x-python",
   "name": "python",
   "nbconvert_exporter": "python",
   "pygments_lexer": "ipython3",
   "version": "3.6.5"
  }
 },
 "nbformat": 4,
 "nbformat_minor": 2
}
